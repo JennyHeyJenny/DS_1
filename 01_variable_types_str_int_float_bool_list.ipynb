{
  "nbformat": 4,
  "nbformat_minor": 0,
  "metadata": {
    "colab": {
      "provenance": [],
      "include_colab_link": true
    },
    "kernelspec": {
      "name": "python3",
      "display_name": "Python 3"
    },
    "language_info": {
      "name": "python"
    }
  },
  "cells": [
    {
      "cell_type": "markdown",
      "metadata": {
        "id": "view-in-github",
        "colab_type": "text"
      },
      "source": [
        "<a href=\"https://colab.research.google.com/github/JennyHeyJenny/DS_1/blob/main/01_variable_types_str_int_float_bool_list.ipynb\" target=\"_parent\"><img src=\"https://colab.research.google.com/assets/colab-badge.svg\" alt=\"Open In Colab\"/></a>"
      ]
    },
    {
      "cell_type": "markdown",
      "metadata": {
        "id": "e2-NmQ2S5WQZ"
      },
      "source": [
        "## **Lesson 01: Variables & Data types**\n",
        "\n",
        "#### A **comment** explains what code does or it deactivates code\n",
        "#### **Variables** are named containers that store a value\n",
        "\n",
        "#### **Datatypes**: Variables are of several datatypes\n",
        "  - **string**: text in quotes: \"Hello\"\n",
        "  - **integer**: whole number: 12345\n",
        "  - **float**: decimal: 3.1415\n",
        "  - **boolean**: True or False *only*\n",
        "  - **list**: ['kiwi', 'lime', 'plum', 'pear']\n",
        "  - variables are name-value pairs: **name = value**\n",
        "\n",
        "#### Methods** take a value between parentheses, perform an operation and return a value:\n",
        "\n",
        "#### Markdown makes Python Notebooks more readable and engaging. This is written in markdown.\n",
        "\n",
        "#### **round() int() methods for numbers**"
      ]
    },
    {
      "cell_type": "markdown",
      "source": [
        "**comments**"
      ],
      "metadata": {
        "id": "B2WW-0JsGQJa"
      }
    },
    {
      "cell_type": "code",
      "metadata": {
        "id": "tzzvpkFVtvWB"
      },
      "source": [
        "# comments in Python start w #\n",
        "# comments describe what the code is doing / why it is there\n",
        "# comments are for us humans to read and are ignored by the actual code\n",
        "# \"commenting out code\" means deactivating code by turning it into a comment\n",
        "# comments keyboard shortcut: Command-Slash"
      ],
      "execution_count": null,
      "outputs": []
    },
    {
      "cell_type": "markdown",
      "source": [
        "**string variables**\n",
        "- strings are text in quotes, either single or double\n",
        "- nested quotes can be resolved by mixing-and-matching single and double or by escaping inner quotes with a backslash"
      ],
      "metadata": {
        "id": "PAutyRAfHEvc"
      }
    },
    {
      "cell_type": "code",
      "source": [
        "# 1. Declare your name as two string variables.\n",
        "#.   Try a mix of single and double quotes:\n"
      ],
      "metadata": {
        "id": "RtM7E1t2HDQW"
      },
      "execution_count": null,
      "outputs": []
    },
    {
      "cell_type": "markdown",
      "source": [
        "**running the program**.\n",
        "- Click the run button (arrow button) at left of a cell to run that cell.\n",
        "- **Runtime > Run all** to run the whole Notebook (page)\n",
        "- **Runtime > Restart and run all** if your program is giving you issues and you debugging isn't working"
      ],
      "metadata": {
        "id": "VYB6PILxNhSy"
      }
    },
    {
      "cell_type": "markdown",
      "source": [
        "**methods**\n",
        "- methods perform useful functions\n",
        "- methods take data in their parentheses\n",
        "- the data in the parentheses is the **argument** (arg).\n",
        "\n",
        "**print() method**\n",
        "- **print()** method takes data to print out as its argument.\n",
        "- print multiple items at once by separating them with commas"
      ],
      "metadata": {
        "id": "1iBQIFkfIziP"
      }
    },
    {
      "cell_type": "code",
      "source": [
        "# 2. Print the classic first program message:\n",
        "\n",
        "\n",
        "# 3. Print a greeting:\n",
        "\n"
      ],
      "metadata": {
        "colab": {
          "base_uri": "https://localhost:8080/"
        },
        "id": "dGQyHs7TJciW",
        "outputId": "d7cd607f-7b8f-4387-b4e5-5363f45ee37e"
      },
      "execution_count": null,
      "outputs": [
        {
          "output_type": "stream",
          "name": "stdout",
          "text": [
            "Hello World\n",
            "Hello Brian\n"
          ]
        }
      ]
    },
    {
      "cell_type": "markdown",
      "source": [
        "**variable naming rules**\n",
        "- Use letters, numbers and underscores only\n",
        "- NO special characters (except underscore)\n",
        "- NO spaces in a variable name\n",
        "- CAN'T begin with a number\n",
        "- CAN'T be a reserved word / keyword"
      ],
      "metadata": {
        "id": "P-CWX4htKFZs"
      }
    },
    {
      "cell_type": "markdown",
      "source": [
        "**variable naming best practices**\n",
        "- Two-word names should be joined by underscore:  **last_name**\n",
        "- Variable names should be short, yet meaningful:\n",
        "  - **tel** is good\n",
        "  - **telephone_number** is a bit long"
      ],
      "metadata": {
        "id": "iAhNbuAkK8sl"
      }
    },
    {
      "cell_type": "code",
      "source": [
        "# NO spaces in var names:\n",
        "\n",
        "# 4. Try starting a variable name with a number. You get an error:\n",
        "# 1day = \"Monday\" # ERROR: invalid decimal literal\n",
        "\n",
        "# 5. Fix the error by moving the number to the end:\n",
        "\n",
        "print()\n",
        "\n",
        "# NO special chars in variable names, except for underscore _\n",
        "\n",
        "# 6. Try to include a hashtag in a variable name:\n",
        "# day#after#yesterday = \"tomorrow\" # error\n",
        "\n",
        "# 7. Fix the error by using _ instead of #:\n",
        "# \"tomorrow\"\n",
        "print()\n",
        "\n",
        "# cannot use reserved words for your var names\n",
        "\n",
        "# 8. Try declaring a varible called print:\n",
        "# print = \"Hello World\"\n",
        "# print(print) # # ERROR: object is not callable\n",
        "\n",
        "# That really messed things up, because pring is now a string instead of a method,\n",
        "# None of our print() statements work anymore.\n",
        "\n",
        "# 9. Comment out the print variable and run the cell again. That still doesn't\n",
        "#.   work, because that print string is still in memory. We have to clear the\n",
        "#.   memory by restarting the runtime.\n",
        "\n",
        "# 10. Choose: Runtime > Restart runtime\n",
        "#.   To Restart and run all cells in the Notebook, choose Restart and run all"
      ],
      "metadata": {
        "colab": {
          "base_uri": "https://localhost:8080/"
        },
        "id": "HipIsfXQKEag",
        "outputId": "3a336be9-6a66-484f-d1cb-a28d67bb8a0f"
      },
      "execution_count": null,
      "outputs": [
        {
          "output_type": "stream",
          "name": "stdout",
          "text": [
            "Monday\n",
            "tomorrow\n"
          ]
        }
      ]
    },
    {
      "cell_type": "markdown",
      "source": [
        "**labeling print output**.\n",
        "It's easier to understand your print output if you label it. This can be done by adding a descriptive string in front of the variable to the print statement:"
      ],
      "metadata": {
        "id": "dQo-8VWt4ZSd"
      }
    },
    {
      "cell_type": "code",
      "source": [
        "# 11. Declare a string var and print it with labels:\n",
        "# 'apple'\n",
        "print('fave_fruit') # the literal variable name\n",
        "print('Favorite Fruit:') # reader-friendly label"
      ],
      "metadata": {
        "colab": {
          "base_uri": "https://localhost:8080/"
        },
        "id": "23IhxrOcUkik",
        "outputId": "c01fd264-eecf-4efb-eb31-c2b4c9293772"
      },
      "execution_count": null,
      "outputs": [
        {
          "output_type": "stream",
          "name": "stdout",
          "text": [
            "fave_fruit apple\n",
            "Favorite Fruit: apple\n"
          ]
        }
      ]
    },
    {
      "cell_type": "markdown",
      "source": [
        "**escaping quotes**\n",
        "- Nested quotes (quotes inside quotes) can confuse the program. It may, for example, take an apostrophe for the end of a single-quoted string, resulting in an error.\n",
        "- Turn off inner quotes by putting a backslash \\ in front of the quote. This is known as **escaping quotes**."
      ],
      "metadata": {
        "id": "zn7JEPJbVJ_m"
      }
    },
    {
      "cell_type": "code",
      "source": [
        "# 12. Try declaring a string var in single quotes with a nested single quote (apostrophe):\n",
        "#.    We get an error, because it thinks the apostrophe is the closing quote.\n",
        "# 'Let's get started!' # Error: unterminated string literal\n",
        "\n",
        "# 13. Comment out the error, and try again with the apostrophe escaped with a backslash:\n",
        "\n",
        "print()\n",
        "\n",
        "# 14. Avoid the apostrophe conflict by using double quotes around the string:\n",
        "\n",
        "print()"
      ],
      "metadata": {
        "colab": {
          "base_uri": "https://localhost:8080/"
        },
        "id": "n6MeVptxVPyi",
        "outputId": "ea11068d-95be-4ce4-a178-f27cda40470d"
      },
      "execution_count": null,
      "outputs": [
        {
          "output_type": "stream",
          "name": "stdout",
          "text": [
            "Let's get started!\n",
            "Let's get started!\n"
          ]
        }
      ]
    },
    {
      "cell_type": "markdown",
      "source": [
        "**type()** method returns the data type of a variable. It can be useful to output a type along with a var and a label:"
      ],
      "metadata": {
        "id": "0p5mGm61TlD4"
      }
    },
    {
      "cell_type": "code",
      "source": [
        "# 15. Declare a string var and print its data type:\n",
        "\n",
        "print(\"veg\") # veg carrot <class 'str'>\n",
        "\n",
        "# 16. Declare an integer var and print its data type:\n",
        "\n",
        "print(\"zip\") # zip 10015 <class 'int'>"
      ],
      "metadata": {
        "id": "FOiRPXQ9wzhq",
        "colab": {
          "base_uri": "https://localhost:8080/"
        },
        "outputId": "4794c028-eea0-4cbe-b7ff-1d580b88ed5a"
      },
      "execution_count": null,
      "outputs": [
        {
          "output_type": "stream",
          "name": "stdout",
          "text": [
            "veg carrot <class 'str'>\n",
            "zip 10015 <class 'int'>\n"
          ]
        }
      ]
    },
    {
      "cell_type": "markdown",
      "metadata": {
        "id": "ANqyD9kV5DAm"
      },
      "source": [
        "##numeric data types:\n",
        "- **int**, short for integer, is a whole number\n",
        "- **float** is a decimal number\n",
        "- **round(y, n)** method rounds off float **y** to **n** decimal places\n"
      ]
    },
    {
      "cell_type": "code",
      "metadata": {
        "id": "XdNgZpSxv5_M",
        "colab": {
          "base_uri": "https://localhost:8080/"
        },
        "outputId": "a6d6b003-90c1-478c-ee76-640ae25b5b61"
      },
      "source": [
        "# Calculate a restaurant bill using ints & floats:\n",
        "\n",
        "# 17. Declare an integer and print it with its data type:\n",
        "\n",
        "print('food:')\n",
        "\n",
        "# 18. Declare a float and print it with its data type:\n",
        "\n",
        "print('bev:)\n",
        "\n",
        "# 19. Add them together and print the result w datatype\n",
        "\n",
        "print('sub_tot:')\n",
        "\n",
        "# 20. Declare two more floats:\n",
        "# NYC Sales Tax\n",
        "\n",
        "\n",
        "# 21. Calculate tax and tip totals.\n",
        "#.    Divide by 100 since 15% is 0.15 -- not 15\n",
        "\n",
        "\n",
        "\n",
        "# 22. Add up and print the total:\n",
        "\n",
        "print('total:') # 187.670625\n",
        "\n",
        "# round() method rounds off its argument to N decimal places:\n",
        "\n",
        "# 23. Round off the total to 2 decimal places:\n",
        "\n",
        "print('Please Pay $') # Please Pay $ 187.67"
      ],
      "execution_count": null,
      "outputs": [
        {
          "output_type": "stream",
          "name": "stdout",
          "text": [
            "food: 88 <class 'int'>\n",
            "bev: 63.5 <class 'float'>\n",
            "sub_tot: 151.5 <class 'float'>\n",
            "total: 187.670625\n",
            "Please Pay $ 187.67\n",
            "msg: Hello World <class 'str'>\n"
          ]
        }
      ]
    },
    {
      "cell_type": "markdown",
      "metadata": {
        "id": "XuLNXI2462av"
      },
      "source": [
        "##boolean data type:\n",
        "#### **Booleans** are vars with only two possible values:  **True** or **False**\n",
        "#### **True** or **False** are case-sensitive--as is most everything else in Python and other programming languages\n"
      ]
    },
    {
      "cell_type": "code",
      "metadata": {
        "id": "0RPkc-gYx1tQ",
        "colab": {
          "base_uri": "https://localhost:8080/"
        },
        "outputId": "82f3f27d-173e-4162-c3e4-1e610f94d192"
      },
      "source": [
        "# 24. Declare two vars of type boolean:\n",
        "\n",
        "\n",
        "print('logged_in:')\n",
        "print('online:')\n",
        "\n",
        "# 25. \"Toggle\" each booleans by setting it equal to \"not itself\".\n",
        "#.     Whatever the value of the boolean was, this move flips it:\n",
        "\n",
        "\n",
        "print('logged_in:')\n",
        "print('online:')"
      ],
      "execution_count": null,
      "outputs": [
        {
          "output_type": "stream",
          "name": "stdout",
          "text": [
            "logged_in: False <class 'bool'>\n",
            "online: True <class 'bool'>\n",
            "logged_in: True\n",
            "online: False\n"
          ]
        }
      ]
    },
    {
      "cell_type": "markdown",
      "metadata": {
        "id": "QaASiiNt7CMc"
      },
      "source": [
        "####**lists**\n",
        "- A list contains multiple items enclosed in square brackets. Individual items are separated by commas\n",
        "- Lists can contain items of any data type\n",
        "\n",
        "**getting individual list items by index**.\n",
        "- List items are stored by **index** (numeric position, starting at **0**).\n",
        "- The index follows the list, in square brackets\n",
        "- The first item in a list is at **index [0]**\n",
        "- The last item in a list is at **index [-1]**\n",
        "- **len(list)** returns the **length** of the list"
      ]
    },
    {
      "cell_type": "code",
      "metadata": {
        "id": "02qfRdTF0OxX",
        "colab": {
          "base_uri": "https://localhost:8080/"
        },
        "outputId": "f39c1c9a-8254-4082-c0dd-3ef3272dd505"
      },
      "source": [
        "# 26. Declare a list of fruit:\n",
        "# 'apple', 'banana', 'cherry', 'grape', 'kiwi', 'lime', 'mango', 'orange', 'peach'\n",
        "\n",
        "# 27. Print fruits, along with its data type and length.\n",
        "#     '\\n' gives a line break in a print statement\n",
        "print('fruits:' '\\ntype:' '\\nlength:', len(fruits))\n",
        "\n",
        "# 27. Print the first and last items:\n",
        "print('first:' '\\nlast:') # apple peach\n",
        "\n",
        "# 28. Declare and print a list of numbers:\n",
        "# 3,5,8,13,21,34\n",
        "print('\\nnums:' '\\ntype:' '\\nlength:')\n",
        "\n",
        "# 29. Print the second and next to last items:\n",
        "print('first:', '\\nlast:', ) # 5 21"
      ],
      "execution_count": null,
      "outputs": [
        {
          "output_type": "stream",
          "name": "stdout",
          "text": [
            "fruits: ['apple', 'banana', 'cherry', 'grape', 'kiwi', 'lime', 'mango', 'orange', 'peach'] \n",
            "type: <class 'list'> \n",
            "length: 9\n",
            "first: apple \n",
            "last: peach\n",
            "\n",
            "nums: [3, 5, 8, 13, 21, 34] \n",
            "type: <class 'list'> \n",
            "length: 6\n",
            "first: 5 \n",
            "last: 21\n"
          ]
        }
      ]
    },
    {
      "cell_type": "markdown",
      "source": [
        "**selecting a range of list items by start:end index**.\n",
        "- the selection syntax is: **list[start_index:end_index]**\n",
        "- the end index is exclusive (not included in result)\n",
        "- a selection returns a new single item or a new list of multiple items\n",
        "- selections starting at 0 can omit the start index\n",
        "- selections going to the end omit the end index\n"
      ],
      "metadata": {
        "id": "S_P0Xep_EiOb"
      }
    },
    {
      "cell_type": "code",
      "source": [
        "# Given this expanded list of fruits:\n",
        "# 'apple', 'banana', 'cherry', 'grape', 'grapefruit', 'kiwi', 'lemon', 'lime', 'mango', 'orange', 'peach', 'pear', 'plum', 'papaya'\n",
        "\n",
        "# Print the following item(s) by index, using square brackets:\n",
        "\n",
        "# 30. Print the third item:\n",
        "print() # cherry\n",
        "\n",
        "# 31. Save grape and grapefruit to a new list:\n",
        "\n",
        "print('grapey') # ['grape', 'grapefruit']\n",
        "\n",
        "# 32. Select the first 5 fruits and save them to a new list:\n",
        "\n",
        "print('five_fruits')\n",
        "\n",
        "# 33. Repeat the above step, but omit the 0 start index; it still works:\n",
        "\n",
        "print('five_fruits')\n",
        "# ['apple', 'banana', 'cherry', 'grape', 'grapefruit']\n",
        "\n",
        "# 34. Save the \"p-fruits\" using negative index:\n",
        "\n",
        "print('p_fruits')\n",
        "\n",
        "# 35. Print all but the first fruit:\n",
        "print('no first:')\n",
        "\n",
        "# 36. Print all but the last fruit:\n",
        "print('no last:')\n"
      ],
      "metadata": {
        "colab": {
          "base_uri": "https://localhost:8080/"
        },
        "id": "LrOE-elBGZyM",
        "outputId": "225e8878-7bde-4cdb-b884-1df3743c5b27"
      },
      "execution_count": null,
      "outputs": [
        {
          "output_type": "stream",
          "name": "stdout",
          "text": [
            "cherry\n",
            "grapey ['grape', 'grapefruit']\n",
            "five_fruits ['apple', 'banana', 'cherry', 'grape', 'grapefruit']\n",
            "five_fruits ['apple', 'banana', 'cherry', 'grape', 'grapefruit']\n",
            "p_fruits ['peach', 'pear', 'plum', 'papaya']\n",
            "no first: ['banana', 'cherry', 'grape', 'grapefruit', 'kiwi', 'lemon', 'lime', 'mango', 'orange', 'peach', 'pear', 'plum', 'papaya']\n",
            "no last: ['apple', 'banana', 'cherry', 'grape', 'grapefruit', 'kiwi', 'lemon', 'lime', 'mango', 'orange', 'peach', 'pear', 'plum']\n"
          ]
        }
      ]
    },
    {
      "cell_type": "markdown",
      "metadata": {
        "id": "1qv8ioXO74_5"
      },
      "source": [
        "**nested lists (lists inside lists)**\n",
        "- Data is often stored in a nested manner, that is, data inside of data\n",
        "- Use a second set of square brackets to access the nested item(s) of a list\n"
      ]
    },
    {
      "cell_type": "code",
      "metadata": {
        "id": "6vRGrWlb7-tv",
        "colab": {
          "base_uri": "https://localhost:8080/"
        },
        "outputId": "c7cc5012-a0a7-4e7d-bbce-02148cec8142"
      },
      "source": [
        "# 37. Declare a list of two items, both of which are lists of strings:\n",
        "# 'apples', 'bananas', 'grapes', 'carrots', 'celery', 'cucumbers'\n",
        "print()) # <class 'list'>\n",
        "\n",
        "# 38. Get the first list (the fruits):\n",
        "print() # ['apples', 'bananas', 'grapes'] <class 'list'>\n",
        "\n",
        "# 39. Get the apple (1st item in the v list):\n",
        "print() # apple\n",
        "\n",
        "# 40. Get the celery (2nd item in the 2nd list):\n",
        "print() # celery\n",
        "\n",
        "# 41. Using negative indexing, get the last item in the first list:\n",
        "print() # grapes"
      ],
      "execution_count": null,
      "outputs": [
        {
          "output_type": "stream",
          "name": "stdout",
          "text": [
            "<class 'list'>\n",
            "['apples', 'bananas', 'grapes'] <class 'list'>\n",
            "apples\n",
            "celery\n",
            "grapes\n"
          ]
        }
      ]
    },
    {
      "cell_type": "markdown",
      "source": [
        "# Markdown Syntax:\n",
        "####Hashtags make headings of different text sizes.\n",
        "# One Hashtag = h1\n",
        "## Two hashtags = h2\n",
        "### Three hashtags = h3\n",
        "### Four hashtags = h4\n",
        "For **bold**, wrap the text in double asterisks.\n",
        "For *italics*, wrap the text in one asterisk.\n",
        "Add a double space after a line for a line break.\n",
        "For a bulleted list, put a hyphen (-) before each line:\n",
        "**Favorite Fruits**\n",
        "- Apple\n",
        "- Banana\n",
        "- Cherry"
      ],
      "metadata": {
        "id": "XU8jodqRI0sX"
      }
    }
  ]
}